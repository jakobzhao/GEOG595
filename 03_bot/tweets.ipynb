{
  "nbformat": 4,
  "nbformat_minor": 0,
  "metadata": {
    "colab": {
      "provenance": []
    },
    "kernelspec": {
      "name": "python3",
      "display_name": "Python 3"
    },
    "language_info": {
      "name": "python"
    }
  },
  "cells": [
    {
      "cell_type": "code",
      "execution_count": 10,
      "metadata": {
        "id": "UdCRxYT05Hu_"
      },
      "outputs": [],
      "source": [
        "# created on Dec 24, 2020\n",
        "# modified on April 14, 2021\n",
        "# modified on Jan 2, 2021\n",
        "# @author:          Bo Zhao\n",
        "# @email:           zhaobo@uw.edu\n",
        "# @website:         https://hgis.uw.edu\n",
        "# @organization:    Department of Geography, University of Washington, Seattle\n",
        "# @description:     Search historical tweets using locational information"
      ]
    },
    {
      "cell_type": "code",
      "source": [
        "!pip install tweepy==4.13.0"
      ],
      "metadata": {
        "colab": {
          "base_uri": "https://localhost:8080/"
        },
        "id": "37CyYMF95Js1",
        "outputId": "76339e42-ce9b-4a24-95a5-de8e95bfe2b2"
      },
      "execution_count": 11,
      "outputs": [
        {
          "output_type": "stream",
          "name": "stdout",
          "text": [
            "Looking in indexes: https://pypi.org/simple, https://us-python.pkg.dev/colab-wheels/public/simple/\n",
            "Requirement already satisfied: tweepy==4.13.0 in /usr/local/lib/python3.9/dist-packages (4.13.0)\n",
            "Requirement already satisfied: oauthlib<4,>=3.2.0 in /usr/local/lib/python3.9/dist-packages (from tweepy==4.13.0) (3.2.2)\n",
            "Requirement already satisfied: requests<3,>=2.27.0 in /usr/local/lib/python3.9/dist-packages (from tweepy==4.13.0) (2.27.1)\n",
            "Requirement already satisfied: requests-oauthlib<2,>=1.2.0 in /usr/local/lib/python3.9/dist-packages (from tweepy==4.13.0) (1.3.1)\n",
            "Requirement already satisfied: idna<4,>=2.5 in /usr/local/lib/python3.9/dist-packages (from requests<3,>=2.27.0->tweepy==4.13.0) (3.4)\n",
            "Requirement already satisfied: certifi>=2017.4.17 in /usr/local/lib/python3.9/dist-packages (from requests<3,>=2.27.0->tweepy==4.13.0) (2022.12.7)\n",
            "Requirement already satisfied: charset-normalizer~=2.0.0 in /usr/local/lib/python3.9/dist-packages (from requests<3,>=2.27.0->tweepy==4.13.0) (2.0.12)\n",
            "Requirement already satisfied: urllib3<1.27,>=1.21.1 in /usr/local/lib/python3.9/dist-packages (from requests<3,>=2.27.0->tweepy==4.13.0) (1.26.15)\n"
          ]
        }
      ]
    },
    {
      "cell_type": "code",
      "source": [
        "import tweepy\n",
        "import pandas as pd"
      ],
      "metadata": {
        "id": "_rmtuScP5WBv"
      },
      "execution_count": 12,
      "outputs": []
    },
    {
      "cell_type": "code",
      "source": [
        "bearer_token = \"AAAAAAAAAAAAAAAAAAAAAGI3lQEAAAAAmam79tkOTveGwINDgIICFGj3gV4%3DSHr2kNbdyMEPnEzIxBRShNdFd862b4LKUFCjNP3Uo9WdVJ4Bt5\"\n",
        "client = tweepy.Client(bearer_token)"
      ],
      "metadata": {
        "id": "7iWQ8j2h5Yg1"
      },
      "execution_count": 13,
      "outputs": []
    },
    {
      "cell_type": "code",
      "source": [
        "# Define the search term and the date_since date as variables\n",
        "# read this tutorial: https://dev.to/twitterdev/a-comprehensive-guide-for-using-the-twitter-api-v2-using-tweepy-in-python-15d9\n",
        "search_words = \"BLM  -is:retweet lang:en\"\n",
        "\n",
        "# Search Recent Tweets\n",
        "\n",
        "# This endpoint/method returns Tweets from the last seven days\n",
        "# By default, this endpoint/method returns 10 results\n",
        "# You can retrieve up to 100 Tweets by specifying max_results\n",
        "response = client.search_recent_tweets(\n",
        "    search_words,\n",
        "    max_results = 100,\n",
        "    tweet_fields = ['author_id','created_at','text','lang','geo'],\n",
        "    expansions = ['geo.place_id', 'author_id'],\n",
        "    place_fields = ['place_type', 'geo']\n",
        ")\n",
        "# The method returns a Response object.\n",
        "\n",
        "# In this case, the data field of the Response returned is a list of Tweet objects\n",
        "tweets = response.data\n",
        "\n",
        "# Each Tweet object has default ID and text fields\n",
        "\n",
        "# create an array to store the result\n",
        "result = []\n",
        "\n",
        "\n",
        "# # Iterate and print tweets\n",
        "# for tweet in tweets:\n",
        "#     print(tweet.author_id)      # print the author id of the tweet\n",
        "#     print(tweet.text)           # print the text\n",
        "#     print(tweet.data['lang'])   # print the language (PL, since we're filtering by it)\n",
        "#     print(tweet.geo)\n",
        "\n",
        "# Iterate and print tweets\n",
        "for tweet in tweets:\n",
        "    row = {\n",
        "        'userid': tweet.author_id,\n",
        "        'lang': tweet.lang,\n",
        "        'created_at': str(tweet.created_at),\n",
        "        'text': tweet.text,\n",
        "        'geo': tweet.geo\n",
        "    }\n",
        "    result.append(row)\n",
        "    print(row)\n",
        "\n",
        "# Store the results as a pandas dataframe\n",
        "df = pd.DataFrame(result)\n",
        "\n",
        "# notify the completion of the crawling in the console.\n",
        "print(\"the crawling task is finished.\")"
      ],
      "metadata": {
        "colab": {
          "base_uri": "https://localhost:8080/"
        },
        "id": "RZ79abc96uJv",
        "outputId": "59bb5c61-3b25-4bb1-d554-10171a0025f5"
      },
      "execution_count": 80,
      "outputs": [
        {
          "output_type": "stream",
          "name": "stdout",
          "text": [
            "{'userid': 936436135940804608, 'lang': 'en', 'created_at': '2023-04-20 19:20:38+00:00', 'text': 'But really, only BLM https://t.co/5WH7Pfpbcv', 'geo': None}\n",
            "{'userid': 979148974664880132, 'lang': 'en', 'created_at': '2023-04-20 19:20:30+00:00', 'text': '@Karnyth I first saw you and your tweets during the BLM protests and your words led me to believe the protests outraged you. I later heard that you were working to gain a better understanding of why people saw these events differently from you.', 'geo': None}\n",
            "{'userid': 830170686807273473, 'lang': 'en', 'created_at': '2023-04-20 19:20:23+00:00', 'text': '@Jonatha93518197 @elonmusk @TheBabylonBee Si your point both are disgusting people that scam people for money and use it for their benefit? If that is the case I may agree with you with a caveat, Trump was punish with $2.0 million and BLM got $90 M and has nothing to show for other than pushing racism', 'geo': None}\n",
            "{'userid': 1600502908084158464, 'lang': 'en', 'created_at': '2023-04-20 19:20:18+00:00', 'text': '@4Mischief WOW BLM YOU THINK', 'geo': None}\n",
            "{'userid': 1275819959281688576, 'lang': 'en', 'created_at': '2023-04-20 19:20:13+00:00', 'text': '2. country during segregation do not agree with BLM. That should tell you a lot! Any idiot can tell that this isn’t about equality with them. I’d even be willing to bet that a lot of them are flat out racist. WE ARE BEING DIVIDED! Wanna know why? Because it’s easier to control…', 'geo': None}\n",
            "{'userid': 1275819959281688576, 'lang': 'en', 'created_at': '2023-04-20 19:20:12+00:00', 'text': '1. I’m a black American that served my country, and I have family members that were involved in the civil rights movement. My grandma is even mentioned in a couple books. These people DO NOT agree with BLM. Now think about that, black Americans that actually suffered in this…', 'geo': None}\n",
            "{'userid': 1238568478690476032, 'lang': 'en', 'created_at': '2023-04-20 19:20:00+00:00', 'text': 'Leftists, BLM rioters clash with Ohio police in violent scenes, journos try to spin it as ‘peaceful’\\n\\nhttps://t.co/zqS2wl5VBg', 'geo': None}\n",
            "{'userid': 1633042830938497027, 'lang': 'en', 'created_at': '2023-04-20 19:19:55+00:00', 'text': 'Of course #Biden does. He only wants to Glorify insurrectionists that work for Democrat Agenda. @brotherjones_  rioted with #BLM on top of a cop car. 2 Videos of it. #TN3 worse than #J6 They did NOT go to funeral/see parents #audreyHALE was weapon.\\nPut #ArmedGuards in School https://t.co/QNMdts91V8 https://t.co/4xiUy4fyAj', 'geo': None}\n",
            "{'userid': 18547191, 'lang': 'en', 'created_at': '2023-04-20 19:19:47+00:00', 'text': '@gardeningmama09 @Brandon4Chicago @CPZ4Senate I live downtown, the city is more beautiful then it was even when you were here last.  \\n\\nThe lockdowns had a strange effect on it, BLM protests, and the times were in have made the last 3 years harder, but don’t believe the videos you see. \\n\\nThey’re all negative because that’s… https://t.co/S6pCPHrS9y', 'geo': {'place_id': '1d9a5370a355ab0c'}}\n",
            "{'userid': 1588678576102162437, 'lang': 'en', 'created_at': '2023-04-20 19:19:27+00:00', 'text': '@MrAndyNgo @Akron_Police Some of those mostly peaceful protesters.  At BLM rallies', 'geo': None}\n",
            "the crawling task is finished.\n"
          ]
        }
      ]
    },
    {
      "cell_type": "code",
      "source": [
        "# Create data on to Google Drive\n",
        "from google.colab import drive\n",
        "# Mount your Drive to the Colab VM.\n",
        "drive.mount('/gdrive')\n",
        "# the file path where to store the output csv on google drive\n",
        "output_file = '/gdrive/My Drive/twsearch-result.csv'\n",
        "  \n",
        "df.to_csv(output_file, index=False)"
      ],
      "metadata": {
        "colab": {
          "base_uri": "https://localhost:8080/"
        },
        "id": "_PETpxUnGZ0M",
        "outputId": "a928358f-3938-48d9-de80-bc1c815c8295"
      },
      "execution_count": 81,
      "outputs": [
        {
          "output_type": "stream",
          "name": "stdout",
          "text": [
            "Drive already mounted at /gdrive; to attempt to forcibly remount, call drive.mount(\"/gdrive\", force_remount=True).\n"
          ]
        }
      ]
    },
    {
      "cell_type": "code",
      "source": [
        "# download the csv to your local computer\n",
        "from google.colab import files\n",
        "files.download(output_file)\n",
        "print(\"the csv has been downloaded to your local computer. The program has been completed successfully.\")"
      ],
      "metadata": {
        "colab": {
          "base_uri": "https://localhost:8080/",
          "height": 35
        },
        "id": "fQ9dQl1vGxkO",
        "outputId": "6e3c2e88-cad3-438b-e344-db0c08779fc8"
      },
      "execution_count": 82,
      "outputs": [
        {
          "output_type": "display_data",
          "data": {
            "text/plain": [
              "<IPython.core.display.Javascript object>"
            ],
            "application/javascript": [
              "\n",
              "    async function download(id, filename, size) {\n",
              "      if (!google.colab.kernel.accessAllowed) {\n",
              "        return;\n",
              "      }\n",
              "      const div = document.createElement('div');\n",
              "      const label = document.createElement('label');\n",
              "      label.textContent = `Downloading \"${filename}\": `;\n",
              "      div.appendChild(label);\n",
              "      const progress = document.createElement('progress');\n",
              "      progress.max = size;\n",
              "      div.appendChild(progress);\n",
              "      document.body.appendChild(div);\n",
              "\n",
              "      const buffers = [];\n",
              "      let downloaded = 0;\n",
              "\n",
              "      const channel = await google.colab.kernel.comms.open(id);\n",
              "      // Send a message to notify the kernel that we're ready.\n",
              "      channel.send({})\n",
              "\n",
              "      for await (const message of channel.messages) {\n",
              "        // Send a message to notify the kernel that we're ready.\n",
              "        channel.send({})\n",
              "        if (message.buffers) {\n",
              "          for (const buffer of message.buffers) {\n",
              "            buffers.push(buffer);\n",
              "            downloaded += buffer.byteLength;\n",
              "            progress.value = downloaded;\n",
              "          }\n",
              "        }\n",
              "      }\n",
              "      const blob = new Blob(buffers, {type: 'application/binary'});\n",
              "      const a = document.createElement('a');\n",
              "      a.href = window.URL.createObjectURL(blob);\n",
              "      a.download = filename;\n",
              "      div.appendChild(a);\n",
              "      a.click();\n",
              "      div.remove();\n",
              "    }\n",
              "  "
            ]
          },
          "metadata": {}
        },
        {
          "output_type": "display_data",
          "data": {
            "text/plain": [
              "<IPython.core.display.Javascript object>"
            ],
            "application/javascript": [
              "download(\"download_177be7cd-a2fc-41c0-8f6a-49890a8b489c\", \"twsearch-result.csv\", 2646)"
            ]
          },
          "metadata": {}
        },
        {
          "output_type": "stream",
          "name": "stdout",
          "text": [
            "the csv has been downloaded to your local computer. The program has been completed successfully.\n"
          ]
        }
      ]
    }
  ]
}