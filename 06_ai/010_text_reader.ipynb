{
  "nbformat": 4,
  "nbformat_minor": 0,
  "metadata": {
    "colab": {
      "name": "010_text_reader.ipynb",
      "provenance": [],
      "collapsed_sections": []
    },
    "kernelspec": {
      "name": "python3",
      "display_name": "Python 3"
    },
    "language_info": {
      "name": "python"
    }
  },
  "cells": [
    {
      "cell_type": "code",
      "execution_count": 1,
      "metadata": {
        "id": "_ONWRu69iTZP"
      },
      "outputs": [],
      "source": [
        "# created on Dec 24, 2020\n",
        "# modified on Feb 4, 2022\n",
        "# @authors:         Bo Zhao, Jou Ho\n",
        "# @email:           zhaobo@uw.edu\n",
        "# @website:         https://hgis.uw.edu\n",
        "# @organization:    Department of Geography, University of Washington, Seattle\n",
        "# @description:"
      ]
    },
    {
      "cell_type": "code",
      "source": [
        "!pip install PyMuPDF\n",
        "!pip install tika"
      ],
      "metadata": {
        "id": "2TtNMNRcig_S",
        "colab": {
          "base_uri": "https://localhost:8080/"
        },
        "outputId": "76d1328e-2d5e-4914-ab22-131d6bef4237"
      },
      "execution_count": 5,
      "outputs": [
        {
          "output_type": "stream",
          "name": "stdout",
          "text": [
            "Collecting PyMuPDF\n",
            "  Downloading PyMuPDF-1.19.5-cp37-cp37m-manylinux_2_17_x86_64.manylinux2014_x86_64.whl (8.7 MB)\n",
            "\u001b[K     |████████████████████████████████| 8.7 MB 21.4 MB/s \n",
            "\u001b[?25hInstalling collected packages: PyMuPDF\n",
            "Successfully installed PyMuPDF-1.19.5\n",
            "Requirement already satisfied: tika in /usr/local/lib/python3.7/dist-packages (1.24)\n",
            "Requirement already satisfied: requests in /usr/local/lib/python3.7/dist-packages (from tika) (2.23.0)\n",
            "Requirement already satisfied: setuptools in /usr/local/lib/python3.7/dist-packages (from tika) (57.4.0)\n",
            "Requirement already satisfied: idna<3,>=2.5 in /usr/local/lib/python3.7/dist-packages (from requests->tika) (2.10)\n",
            "Requirement already satisfied: urllib3!=1.25.0,!=1.25.1,<1.26,>=1.21.1 in /usr/local/lib/python3.7/dist-packages (from requests->tika) (1.24.3)\n",
            "Requirement already satisfied: chardet<4,>=3.0.2 in /usr/local/lib/python3.7/dist-packages (from requests->tika) (3.0.4)\n",
            "Requirement already satisfied: certifi>=2017.4.17 in /usr/local/lib/python3.7/dist-packages (from requests->tika) (2021.10.8)\n"
          ]
        }
      ]
    },
    {
      "cell_type": "code",
      "source": [
        "from os import listdir\n",
        "from os.path import isfile, join\n",
        "from fitz import open as fitzOpen\n",
        "from tika import parser\n",
        "\n",
        "from google.colab import files\n",
        "# Create data on to Google Drive\n",
        "from google.colab import drive\n",
        "# Mount your Drive to the Colab VM.\n",
        "drive.mount('/gdrive')"
      ],
      "metadata": {
        "id": "xlvloNz0ipSa",
        "colab": {
          "base_uri": "https://localhost:8080/"
        },
        "outputId": "4a264dfe-b365-448e-9af9-a5dd517dbb3b"
      },
      "execution_count": 6,
      "outputs": [
        {
          "output_type": "stream",
          "name": "stdout",
          "text": [
            "Mounted at /gdrive\n"
          ]
        }
      ]
    },
    {
      "cell_type": "code",
      "source": [
        "bookPath = \"/gdrive/MyDrive/geog595/gay-seattle\"\n",
        "delFrontPagePath = \"/gdrive/MyDrive/geog595/delFrontPage\"\n",
        "txtPath = \"/gdrive/MyDrive/geog595/gay-seattle.txt\"\n",
        "pdfs = [f for f in listdir(bookPath) if isfile(join(bookPath, f))]"
      ],
      "metadata": {
        "id": "H84VkELMmUTa"
      },
      "execution_count": 10,
      "outputs": []
    },
    {
      "cell_type": "code",
      "source": [
        "for pdf in pdfs:\n",
        "    # delete the front page of each pdf file\n",
        "    pdfHandle = fitzOpen(bookPath + '/' + pdf)\n",
        "    pages = list(range(pdfHandle.pageCount))\n",
        "    pages.pop(0)\n",
        "    pdfHandle.select(pages)\n",
        "    pdfHandle.save(delFrontPagePath + '/' + pdf)\n",
        "    pdfHandle.close()\n",
        "\n",
        "    # read the content of each pdf and make a text file contains the entire book content.\n",
        "    content = parser.from_file(delFrontPagePath + '/' + pdf)['content']\n",
        "    try:\n",
        "        print(content)\n",
        "        with open(txtPath, 'a', encoding='utf8') as output:\n",
        "            if content is not None:\n",
        "                output.write(content)\n",
        "    except AttributeError as error:\n",
        "        print(error)\n",
        "print(\"finished!\")"
      ],
      "metadata": {
        "id": "LH_hbC90mbF1"
      },
      "execution_count": null,
      "outputs": []
    }
  ]
}