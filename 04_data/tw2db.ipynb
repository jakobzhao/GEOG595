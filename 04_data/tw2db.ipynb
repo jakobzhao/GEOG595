{
  "cells": [
    {
      "cell_type": "code",
      "execution_count": 1,
      "metadata": {
        "id": "9GLUSjSNCvQI"
      },
      "outputs": [],
      "source": [
        "# created on Dec 24, 2020\n",
        "# @author:          Bo Zhao\n",
        "# @email:           zhaobo@uw.edu\n",
        "# @website:         https://hgis.uw.edu\n",
        "# @organization:    Department of Geography, University of Washington, Seattle\n",
        "# @description:     Search geo-tagged tweets within the U.S. This script is modified from https://github.com/shawn-terryah/Twitter_Geolocation"
      ]
    },
    {
      "cell_type": "code",
      "execution_count": null,
      "metadata": {
        "id": "VrLaxJaxCyPq"
      },
      "outputs": [],
      "source": [
        "import tweepy, json, time, sqlite3\n",
        "import pandas as pd\n",
        "from google.colab import files\n",
        "# Create data on to Google Drive\n",
        "from google.colab import drive\n",
        "# Mount your Drive to the Colab VM.\n",
        "drive.mount('/gdrive')"
      ]
    },
    {
      "cell_type": "code",
      "execution_count": 15,
      "metadata": {
        "id": "sXthheKoC1Uy"
      },
      "outputs": [],
      "source": [
        "class StreamListener(tweepy.StreamListener):\n",
        "    \"\"\"tweepy.StreamListener is a class provided by tweepy used to access\n",
        "    the Twitter Streaming API to collect tweets in real-time.\n",
        "    \"\"\"\n",
        "    def __init__(self, time_limit=60, dbfile=\"\"):\n",
        "        \"\"\"class initialization\"\"\"\n",
        "        self.start_time = time.time()\n",
        "        self.limit = time_limit\n",
        "        self.dbfile = dbfile\n",
        "        super(StreamListener, self).__init__()\n",
        "\n",
        "    def on_data(self, data):\n",
        "        \"\"\"This is called when data are streamed in.\"\"\"\n",
        "\n",
        "        conn = sqlite3.connect(self.dbfile)\n",
        "        cursor = conn.cursor()\n",
        "\n",
        "        create_table_sql = ('''\n",
        "        create table if not exists geotweets(\n",
        "                      id INTEGER PRIMARY KEY,\n",
        "                      username  TEXT NOT NULL,\n",
        "                      created_at TEXT DEFAULT 0,\n",
        "                      lat REAL DEFAULT 0,\n",
        "                      lng REAL DEFAULT 0,\n",
        "                      text TEXT);''')\n",
        "        \n",
        "        cursor.execute(create_table_sql)\n",
        "        conn.commit()\n",
        "\n",
        "        if (time.time() - self.start_time) < self.limit:\n",
        "            datajson = json.loads(data)\n",
        "            # print (datajson)\n",
        "            id = datajson['id']\n",
        "            username = datajson['user']['screen_name']\n",
        "            created_at = datajson['created_at']\n",
        "            text = datajson['text'].strip().replace(\"\\n\", \"\").replace('\"', '\\\"').replace(\"'\", \"\\\"\")\n",
        "\n",
        "            # process the geo-tags\n",
        "            if datajson['coordinates'] == None:\n",
        "                bbox = datajson['place']['bounding_box']['coordinates'][0]\n",
        "                lng = (bbox[0][0] + bbox[2][0]) / 2.0\n",
        "                lat = (bbox[0][1] + bbox[1][1]) / 2.0\n",
        "            else:\n",
        "                lng = datajson['coordinates']['coordinates'][0]\n",
        "                lat = datajson['coordinates']['coordinates'][1]\n",
        "\n",
        "            print (id, username, created_at, lng, lat, text)\n",
        "            insert_record_sql = \"INSERT OR REPLACE INTO geotweets (id, username, created_at, lng, lat, text) VALUES (%d, '%s', '%s', %f, %f, '%s')\" % (id, username, created_at, lng, lat, text)\n",
        "            cursor.execute(insert_record_sql)\n",
        "            conn.commit()\n",
        "            \n",
        "        else:\n",
        "            conn.close()\n",
        "            print (\"finished.\")\n",
        "            return False"
      ]
    },
    {
      "cell_type": "code",
      "execution_count": null,
      "metadata": {
        "id": "G5QTsGC-C3Wj"
      },
      "outputs": [],
      "source": [
        "if __name__ == \"__main__\":\n",
        "    # These are provided to you through the Twitter API after you create a account\n",
        "    # register a Twitter App to get the keys and access tokens.\n",
        "    dbname = '/gdrive/MyDrive/tweets.db'\n",
        " \n",
        "    # Apply for your own Twitter API keys at https://developer.twitter.com/en/apply-for-access\n",
        "    consumer_key = \"your_consumer_key\"\n",
        "    consumer_secret = \"your_consumer_secret\"\n",
        "    access_token = \"your_access_token\"\n",
        "    access_token_secret = \"your_access_token_secret\"\n",
        "\n",
        "    myauth = tweepy.OAuthHandler(consumer_key, consumer_secret)\n",
        "    myauth.set_access_token(access_token, access_token_secret)\n",
        "\n",
        "    # LOCATIONS are the longitude, latitude coordinate corners for a box that restricts the\n",
        "    # geographic area from which you will stream tweets. The first two define the southwest\n",
        "    # corner of the box and the second two define the northeast corner of the box.\n",
        "    LOCATIONS = [-124.7771694, 24.520833, -66.947028, 49.384472,  # Contiguous US\n",
        "                 -164.639405, 58.806859, -144.152365, 71.76871,  # Alaska\n",
        "                 -160.161542, 18.776344, -154.641396, 22.878623]  # Hawaii\n",
        "\n",
        "    stream_listener = StreamListener(time_limit=5, dbfile=dbname)\n",
        "    stream = tweepy.Stream(auth=myauth, listener=stream_listener)\n",
        "    stream.filter(locations=LOCATIONS)\n",
        "\n",
        "\n",
        "    # download the csv to your local computer\n",
        "    files.download(dbname)\n",
        "    print(\"the csv has been downloaded to your local computer. The program has been completed successfully.\")"
      ]
    }
  ],
  "metadata": {
    "colab": {
      "collapsed_sections": [],
      "name": "Untitled0.ipynb",
      "provenance": []
    },
    "kernelspec": {
      "display_name": "Python 3",
      "name": "python3"
    },
    "language_info": {
      "name": "python"
    }
  },
  "nbformat": 4,
  "nbformat_minor": 0
}
