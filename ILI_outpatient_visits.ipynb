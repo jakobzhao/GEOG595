{
  "nbformat": 4,
  "nbformat_minor": 0,
  "metadata": {
    "colab": {
      "name": "ILI_outpatient_visits",
      "provenance": [],
      "collapsed_sections": []
    },
    "kernelspec": {
      "name": "python3",
      "display_name": "Python 3"
    }
  },
  "cells": [
    {
      "cell_type": "code",
      "metadata": {
        "id": "0sKY6beKL9Fa",
        "colab_type": "code",
        "colab": {
          "base_uri": "https://localhost:8080/",
          "height": 335
        },
        "outputId": "78f895d8-8f74-45dd-a397-72b32ad67419"
      },
      "source": [
        "import matplotlib.pyplot as plt\n",
        "import numpy as np\n",
        "from sklearn.linear_model import LinearRegression\n",
        "\n",
        "ILI_num_2019 = np.array([17975, 18652, 19948, 21634, 23169, 24085, 24419, 24635, 29096,28377,33113,38260,44012,42135,38815,4199,46241,55264,69732,70056,66461,58802,55431,53177,45668,37948,32941,27854,23147,20610,18864,17107,16459,15730,14762,13443,12089,10640,10001,8676,8407,8092,7755,7851,8031,8933,9971,11747,12908,14394,15478,16283])\n",
        "IPositive_rate_2019 = np.array([1.74, 1.69, 1.98, 2.05, 2.17, 2.73, 3.15, 3.93, 3.91, 6.24, 10.37,14.28,16.36,12.14,12.74,16.32,19.39,22.55,25.14,26.01,26.26,26.09,25.62,26.13,22.47,19.31,14.93,11.89,8.59,5.82,4.8,3.83,3.53,3.41,3.07,2.78,2.31,1.9,2.07,2.43,2.03,2.23,2.39,2.42,2.05,2.07,2.38,3.48,3.14,2.53,2.83,3.36])\n",
        "ILI_num_2020 = np.array([21990, 23006, 24927, 27449, 28925, 34536, 37541, 43852, 43727,48687,56303,71531,95662,88722,75352,79438,89609,107482,110424,94476,79626,73369])\n",
        "IPositive_rate_2020 = np.array([1.3,1.47,1.55,2.25,3.05,5.16,6.75,9.53,10.93,11.65,16.14,22.59,26.99,23.54,23.17,26.14,28.1,30.07,30.27,29.68,28.4,25.8])\n",
        "\n",
        "plt.scatter(np.concatenate((IPositive_rate_2019, IPositive_rate_2020)),np.concatenate((ILI_num_2019, ILI_num_2020)))\n",
        "plt.show()\n",
        "regressor = LinearRegression()  \n",
        "regressor.fit(IPositive_rate_2019.reshape(-1,1), ILI_num_2019.reshape(-1,1))\n",
        "regressor_2020 = LinearRegression()\n",
        "regressor_2020.fit(IPositive_rate_2020.reshape(-1,1), ILI_num_2020.reshape(-1,1))\n",
        "#To retrieve the intercept:\n",
        "print(regressor.intercept_)\n",
        "#For retrieving the slope:\n",
        "print(regressor.coef_)\n",
        "#To retrieve the intercept:\n",
        "print(regressor_2020.intercept_)\n",
        "#For retrieving the slope:\n",
        "print(regressor_2020.coef_)\n",
        "pred_ILI = regressor.predict(np.array(IPositive_rate_2019).reshape(-1,1))\n",
        "#plt.scatter(pred_ILI, ILI_num)\n",
        "#plt.show()"
      ],
      "execution_count": 19,
      "outputs": [
        {
          "output_type": "display_data",
          "data": {
            "image/png": "[encoded data removed]",
            "text/plain": [
              "<Figure size 432x288 with 1 Axes>"
            ]
          },
          "metadata": {
            "tags": []
          }
        },
        {
          "output_type": "stream",
          "text": [
            "[9876.86537419]\n",
            "[[1875.94914476]]\n",
            "[19319.79316508]\n",
            "[[2555.6155882]]\n"
          ],
          "name": "stdout"
        }
      ]
    },
    {
      "cell_type": "code",
      "metadata": {
        "id": "-fmBSQV5QuUj",
        "colab_type": "code",
        "colab": {}
      },
      "source": [
        ""
      ],
      "execution_count": 0,
      "outputs": []
    }
  ]
}